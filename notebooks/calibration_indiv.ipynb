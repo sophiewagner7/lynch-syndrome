{
 "cells": [
  {
   "cell_type": "markdown",
   "id": "0abc783b",
   "metadata": {},
   "source": [
    "# Lynch Syndrome CRC calibration\n",
    "Author: Sophie Wagner <br>\n",
    "Contact: sw3767@cumc.columbia.edu"
   ]
  },
  {
   "cell_type": "markdown",
   "id": "39e4433c",
   "metadata": {},
   "source": [
    "## Notebook configuration"
   ]
  },
  {
   "cell_type": "code",
   "execution_count": 1,
   "id": "f6d28d99",
   "metadata": {},
   "outputs": [],
   "source": [
    "import sys\n",
    "import os\n",
    "\n",
    "import numpy as np  # For matrix manipulation\n",
    "import pandas as pd  # For output/input data processing\n",
    "import matplotlib.pyplot as plt  # For visualizations\n",
    "from csaps import csaps  # For smoothing splines\n",
    "from scipy.interpolate import interp1d # For interpolation\n",
    "from tqdm import tqdm  # For progress bars\n",
    "\n",
    "\n",
    "sys.path.append(os.path.abspath(\"../src\"))\n",
    "\n",
    "# Remove previously imported modules to ensure fresh imports\n",
    "for m in [\"helpers\", \"calibration\", \"configs\"]:\n",
    "    if m in sys.modules:\n",
    "        del sys.modules[m]\n",
    "\n",
    "import helpers\n",
    "import calibration\n",
    "import configs.global_configs as c\n",
    "import configs.inputs as inputs\n",
    "import helpers.common_functions as func\n",
    "import calibration.plots as pl\n",
    "import calibration.gof as gof\n",
    "\n",
    "# Some aesthetic options\n",
    "helpers.add_cell_timer()\n",
    "np.set_printoptions(\n",
    "    suppress=True, linewidth=300, formatter={\"float\": \"{: 0.9f}\".format}\n",
    ")\n",
    "pd.set_option(\"display.max_columns\", None)\n",
    "pd.set_option(\"display.max_rows\", None)"
   ]
  },
  {
   "cell_type": "markdown",
   "id": "339ae863",
   "metadata": {},
   "source": [
    "## Load inputs"
   ]
  },
  {
   "cell_type": "code",
   "execution_count": 11,
   "id": "ec86b0f9",
   "metadata": {},
   "outputs": [],
   "source": [
    "# Lifetables (monthly ACM rate in 5-year age groups)\n",
    "lt_f = inputs.lt_5y[\"prob_death_female_m\"].iloc[4:17]\n",
    "lt_m = inputs.lt_5y[\"prob_death_male_m\"].iloc[4:17]\n",
    "\n",
    "# Starting population vector\n",
    "starting_pop = np.zeros((len(c.SEXES),len(c.GENES),c.n_states,1))\n",
    "starting_pop[:,:,0,:] = c.POPULATION_SIZE\n",
    "c.GENES = [\"MLH1\"]\n",
    "c.n_genes = 1 "
   ]
  },
  {
   "cell_type": "markdown",
   "id": "269229f4",
   "metadata": {},
   "source": [
    "## Matrix configuration"
   ]
  },
  {
   "cell_type": "code",
   "execution_count": null,
   "id": "6841f560",
   "metadata": {},
   "outputs": [],
   "source": [
    "def row_normalize(matrix):\n",
    "    matrix = np.clip(matrix, 0.0, 0.5)\n",
    "    # Iterate over the first three dimensions to access each (n_states, n_states) matrix\n",
    "    for sex in range(matrix.shape[0]):\n",
    "        for gene in range(matrix.shape[1]):\n",
    "            for age_layer in range(matrix.shape[2]): \n",
    "                layer = matrix[sex, gene, age_layer]\n",
    "                # # Calculate the sum of non-diagonal elements for each row\n",
    "                # sum_of_rows = np.sum(layer, axis=1) - np.diag(layer)\n",
    "                # # Set the diagonal elements\n",
    "                # np.fill_diagonal(layer, np.maximum(1 - sum_of_rows, 0.0))\n",
    "                \n",
    "                row_sums_off = layer.sum(axis=1) - np.diag(layer)\n",
    "                # If off-diagonals > 1, rescale them down to sum to (1 - eps)\n",
    "                too_big = row_sums_off > 1 - 1e-12\n",
    "                if np.any(too_big):\n",
    "                    scale = (1 - 1e-8) / row_sums_off[too_big]\n",
    "                    layer[too_big] *= scale[:, None]   # scale whole row\n",
    "                    # restore zeros back on diag before fill\n",
    "                    np.fill_diagonal(layer, 0.0)\n",
    "                    row_sums_off = layer.sum(axis=1) - np.diag(layer)\n",
    "                np.fill_diagonal(layer, np.maximum(1 - row_sums_off, 0.0))\n",
    "                \n",
    "    return matrix\n",
    "\n",
    "\n",
    "def create_matrix():\n",
    "    # Initialize matrix 2 x 4 x n_age_layers x n_states x n_states\n",
    "    # This gives us a n_states x n_states matrix for each age layer for each gene-gender combination\n",
    "    matrix = np.zeros(\n",
    "        (len(c.SEXES), len(c.GENES), len(c.AGE_LAYERS), c.n_states, c.n_states)\n",
    "    )\n",
    "\n",
    "    matrix[:, :, :, 0, 1] = func.probtoprob(0.005)  # healthy to lr_polyp\n",
    "    matrix[:, :, :, 1, 2] = func.probtoprob(0.8)  # lr_polyp to hr_polyp\n",
    "    matrix[:, :, :, 2, 3] = func.probtoprob(0.8)  # hr_polyp to u_stage_1\n",
    "    matrix[:, :, :, 3, 4] = func.probtoprob(0.10)  # u_stage_1 to u_stage_2\n",
    "    matrix[:, :, :, 4, 5] = func.probtoprob(0.30)  # u_stage_2 to u_stage_3\n",
    "    matrix[:, :, :, 5, 6] = func.probtoprob(0.60)  # u_stage_3 to u_stage_4\n",
    "    matrix[:, :, :, 3, 7] = func.probtoprob(0.15)  # u_stage_1 to d_stage_1\n",
    "    matrix[:, :, :, 4, 8] = func.probtoprob(0.2)  # u_stage_2 to d_stage_2\n",
    "    matrix[:, :, :, 5, 9] = func.probtoprob(0.4)  # u_stage_3 to d_stage_3\n",
    "    matrix[:, :, :, 6, 10] = func.probtoprob(0.5)  # u_stage_4 to d_stage_4\n",
    "\n",
    "    matrix = add_acm(matrix)  # ACM\n",
    "    matrix = add_csd(matrix)  # CSD\n",
    "    matrix = constrain_matrix(matrix)  # constrain\n",
    "    matrix = row_normalize(matrix)  # normalize\n",
    "\n",
    "    return matrix\n",
    "\n",
    "\n",
    "def constrain_matrix(matrix):\n",
    "\n",
    "    # Progression Block\n",
    "    matrix[:, :, :, 0, 1] = np.maximum(0.000001, matrix[:, :, :, 0, 1])  # not below 0\n",
    "    matrix[:, :, :, 1, 2] = np.maximum(matrix[:, :, :, 0, 1], matrix[:, :, :, 1, 2])\n",
    "    matrix[:, :, :, 2, 3] = np.maximum(matrix[:, :, :, 1, 2], matrix[:, :, :, 2, 3])\n",
    "    # Cancer progression\n",
    "    matrix[:, :, :, 3, 4] = np.maximum(0.000001, matrix[:, :, :, 3, 4])  # not below 0\n",
    "    matrix[:, :, :, 4, 5] = np.maximum(matrix[:, :, :, 3, 4], matrix[:, :, :, 4, 5])\n",
    "    matrix[:, :, :, 5, 6] = np.maximum(matrix[:, :, :, 5, 6], matrix[:, :, :, 4, 5])\n",
    "\n",
    "    # Detection Block\n",
    "    matrix[:, :, :, 3, 7] = np.maximum(0.000001, matrix[:, :, :, 3, 7])  # not below 0\n",
    "    matrix[:, :, :, 4, 8] = np.maximum(matrix[:, :, :, 3, 7], matrix[:, :, :, 4, 8])\n",
    "    matrix[:, :, :, 5, 9] = np.maximum(matrix[:, :, :, 4, 8], matrix[:, :, :, 5, 9])\n",
    "    matrix[:, :, :, 6, 10] = np.maximum(matrix[:, :, :, 5, 9], matrix[:, :, :, 6, 10])\n",
    "\n",
    "    # Age dependencies\n",
    "    for s in range(c.n_sexes):\n",
    "        for g in range(c.n_genes):\n",
    "            matrix[s, g, :, 0, 1] = np.maximum.accumulate(matrix[s, g, :, 0, 1]) # healthy to lr_polyp\n",
    "\n",
    "    return matrix\n",
    "\n",
    "\n",
    "def add_acm(matrix):\n",
    "    for sex, lt in enumerate([lt_m, lt_f]):\n",
    "        matrix[sex, :, :, :11, 12] = lt[np.newaxis, :, np.newaxis]  # ACM (1,13,1) → (1,13,11) \n",
    "        matrix[sex, :, :, 11, 11] = 1  # Stay in CSD\n",
    "        matrix[sex, :, :, 12, 12] = 1  # Stay in ACM\n",
    "        matrix[sex, :, :, 13, 13] = 1  # Stay in Colo death (unused during calibration)\n",
    "    return matrix\n",
    "\n",
    "\n",
    "def add_csd(matrix):\n",
    "    matrix[:, :, :, 7, 11] = func.probtoprob(0.05)\n",
    "    matrix[:, :, :, 8, 11] = func.probtoprob(0.19)\n",
    "    matrix[:, :, :, 9, 11] = func.probtoprob(0.75)\n",
    "    matrix[:, :, :, 10, 11] = func.probtoprob(0.90)\n",
    "    return matrix"
   ]
  },
  {
   "cell_type": "markdown",
   "id": "07cda7ad",
   "metadata": {},
   "source": [
    "## Markov model"
   ]
  },
  {
   "cell_type": "code",
   "execution_count": 13,
   "id": "2763824f",
   "metadata": {},
   "outputs": [],
   "source": [
    "def run_markov(tmat, starting_age=20, max_age=84):\n",
    "    \n",
    "    current_age = starting_age\n",
    "    stage, age_layer_idx = 1, 0\n",
    "    pop_log, month_pop = starting_pop, starting_pop  # (2, 4, 14, 1)\n",
    "    inc_log = np.zeros(pop_log.shape)  # to track new incidences in each state\n",
    "    n_years = max_age - starting_age + 1 \n",
    "\n",
    "    # Initial matrix is (2, 4, 11, 14, 14) (SEX, GENE, AGE_GROUP, HEALTH_STATE, HEALTH_STATE)\n",
    "    # Transpose health state sub-matrix s.t. we get inverted matrix for multiplication\n",
    "    tmat_T = tmat.transpose(0,1,2,4,3)\n",
    "    inflow_tmat = np.tril(tmat_T, k=-1)\n",
    "    \n",
    "    while current_age <= max_age:\n",
    "        \n",
    "        # Matrix multiplication (state transition) -- batched for each (SEX, GENE) combination\n",
    "        month_inc = np.matmul(inflow_tmat[:,:,age_layer_idx,:,:], month_pop)  # (2, 4, 14, 14)(2, 4, 14, 1)->(2, 4, 14, 1)\n",
    "        month_pop = np.matmul(tmat_T[:,:,age_layer_idx,:,:], month_pop)  # (2, 4, 14, 14)(2, 4, 14, 1)->(2, 4, 14, 1)\n",
    "        \n",
    "        # Add to log\n",
    "        inc_log = np.concatenate((inc_log, month_inc), axis=3)\n",
    "        pop_log = np.concatenate((pop_log, month_pop), axis=3)\n",
    "        \n",
    "        stage += 1\n",
    "        if stage % 12 == 0:\n",
    "            current_age += 1\n",
    "            if current_age in c.AGE_LAYERS.keys(): \n",
    "                age_layer_idx = age_layer_idx+1\n",
    "\n",
    "    # Adjustment: incidence and prevalence should be out of living only\n",
    "    dead_factor = np.divide(c.POPULATION_SIZE, c.POPULATION_SIZE - pop_log[:,:,11:,:].sum(axis=2))\n",
    "    prevalence_adj = np.zeros(pop_log.shape)  # (2, 4, 14, 55)\n",
    "    incidence_adj, incidence_unadj = inc_log.copy(), inc_log.copy()\n",
    "\n",
    "    for state in range(14):\n",
    "        incidence_adj[:,:,state,:] = np.multiply(inc_log[:,:,state,:], dead_factor)\n",
    "        prevalence_adj[:,:,state,:] = np.multiply(pop_log[:,:,state,:], dead_factor)\n",
    "\n",
    "    # Transform into annual counts. For incidence, we sum; for prevalence, we average. \n",
    "    incidence_unadj = incidence_unadj.reshape(c.n_sexes, c.n_genes, c.n_states, n_years, 12).sum(axis=4)  # getting inc unadjusted\n",
    "    incidence_adj = incidence_adj.reshape(c.n_sexes, c.n_genes, c.n_states, n_years, 12).sum(axis=4)  # getting annual incidence (rate per 100k)\n",
    "    prevalence_adj = prevalence_adj.reshape(c.n_sexes, c.n_genes, c.n_states, n_years, 12).mean(axis=4)  # getting mean annual prevalence\n",
    "    \n",
    "    return incidence_adj, prevalence_adj, incidence_unadj, pop_log"
   ]
  },
  {
   "cell_type": "markdown",
   "id": "4bc87c10",
   "metadata": {},
   "source": [
    "## Calibration"
   ]
  },
  {
   "cell_type": "markdown",
   "id": "50052a92",
   "metadata": {},
   "source": [
    "### Step function\n",
    "1. Select random combination of (sex, gene, age layer, transition prob)\n",
    "2. Take a random step (using step size) to adjust the selected transition probability\n",
    "3. (Optional / later into calibration) Spline across age groups such that we don't get too abnormal of a value / smoother transitions across age\n",
    "4. Check matrix constraints"
   ]
  },
  {
   "cell_type": "code",
   "execution_count": 14,
   "id": "8245efef",
   "metadata": {},
   "outputs": [],
   "source": [
    "calibration_tps = list(c.calibration_tps_itos.keys())\n",
    "n_calibration_tps = len(calibration_tps)\n",
    "age_mids = [22.5,27.5,32.5,37.5,42.5,47.5,52.5,57.5,62.5,67.5,72.5,77.5,82.5]\n",
    "\n",
    "def step(matrix, step_size, num_adj=10, smooth=0.01):\n",
    "    new_matrix = np.copy(matrix)\n",
    "    step_tp = np.random.choice(n_calibration_tps, size=num_adj, replace=True)\n",
    "    step_age = np.random.choice(c.n_age_layers, size=num_adj, replace=True)\n",
    "    step_sex = np.random.choice(c.n_sexes, size=num_adj, replace=True)\n",
    "    step_gene = np.random.choice(c.n_genes, size=num_adj, replace=True)\n",
    "\n",
    "    for i in range(num_adj):\n",
    "        (from_state, to_state) = calibration_tps[step_tp[i]]\n",
    "        new_matrix[step_sex[i], step_gene[i], step_age[i], from_state, to_state] += np.random.uniform(low=-step_size, high=step_size)\n",
    "    \n",
    "    # Limit potential increase before splining across ages \n",
    "    new_matrix[:,:,c.n_age_layers-1,:,:] = np.minimum(new_matrix[:,:,c.n_age_layers-2,:,:],new_matrix[:,:,c.n_age_layers-1,:,:])  \n",
    "    new_matrix = csaps(age_mids, new_matrix, smooth=smooth, axis=2)(age_mids).clip(0.0,1.0)\n",
    "    \n",
    "    new_matrix = constrain_matrix(new_matrix)\n",
    "    new_matrix = add_acm(new_matrix)\n",
    "    new_matrix = add_csd(new_matrix)\n",
    "    new_matrix = row_normalize(new_matrix)\n",
    "\n",
    "    return new_matrix"
   ]
  },
  {
   "cell_type": "markdown",
   "id": "3782a614",
   "metadata": {},
   "source": [
    "### Objective function (goodness of fit)\n",
    "Here, we calculate how far off we are from our model targets, and produce a goodness-of-fit score. This is calculated by the mean-squared error between the model output and the target (i.e. mean((prediction-target)**2)). Our calibration targets are:\n",
    "1. Stage distribution at diagnosis -- from Myles\n",
    "2. Cumulative CRC incidence by gene and sex -- from Dominguez et al 2024 splined curves (see \"data cleaning\" folder)\n",
    "3. Cumulative adenoma risk by gene at age 60 -- from Myles"
   ]
  },
  {
   "cell_type": "code",
   "execution_count": 15,
   "id": "1f139483",
   "metadata": {},
   "outputs": [],
   "source": [
    "stage_target = np.array([\n",
    "    inputs.stage_dist_target_dict['stage_1'],\n",
    "    inputs.stage_dist_target_dict['stage_2'],\n",
    "    inputs.stage_dist_target_dict['stage_3'],\n",
    "    inputs.stage_dist_target_dict['stage_4'],\n",
    "])  # shape (4,)\n",
    "\n",
    "def objective(log, weight_type=\"sqrt\"):\n",
    "    inc_unadj = log[2]  # (sex, gene, state, age/month)\n",
    "\n",
    "    # --- CRC stage distribution error (PER GENE, same target vector for all) ---\n",
    "    stage_idx = [7, 8, 9, 10]  # stage_1..stage_4\n",
    "\n",
    "    # Sum over sex and time; keep (gene, stage)\n",
    "    # Result shape: (n_genes, 4)\n",
    "    stage_totals_gene = inc_unadj[:, :, stage_idx, :].sum(axis=(0, 3))\n",
    "    denom = np.maximum(stage_totals_gene.sum(axis=1, keepdims=True), 1e-12)  # per-gene totals\n",
    "    stage_props_gene = stage_totals_gene / denom  # (n_genes, 4)\n",
    "\n",
    "    # MSE across the 4 stages -> (n_genes,)\n",
    "    stage_err_by_gene = ((stage_props_gene*100 - stage_target*100)**2).mean(axis=1)\n",
    "    stage_err_by_gene *= 100 # penalize more\n",
    "    \n",
    "    # --- CRC Incidence Error (per gene, sums over sex with sex-specific targets) ---\n",
    "    err_inc_by_gene = np.zeros(c.n_genes)\n",
    "    for g, gene in enumerate(c.GENES):\n",
    "        e = 0.0\n",
    "        for s, sex in enumerate(c.SEXES):\n",
    "            # sum cancer states, cum over time, per 100 persons\n",
    "            model_inc = (inc_unadj[s, g, 7:11, :].sum(axis=0).cumsum() / c.POPULATION_SIZE) * 100\n",
    "            target_inc = inputs.incidence_target[gene][sex]\n",
    "            e += np.square(model_inc - target_inc).sum()\n",
    "        err_inc_by_gene[g] = e\n",
    "\n",
    "    # --- Adenoma Risk Error by age 60 (per gene) ---\n",
    "    # 2:4 = LR/HR adenoma \n",
    "    # :40 = ages/months to age 60 \n",
    "    err_adn_by_gene = np.zeros(c.n_genes)\n",
    "    for g, gene in enumerate(c.GENES):\n",
    "        model_val = inc_unadj[:, g, 1, :40].sum() / (c.POPULATION_SIZE * c.n_sexes) * 100\n",
    "        target_val = inputs.polyp_targets_dict[gene] * 100\n",
    "        err_adn_by_gene[g] = (model_val - target_val)**2\n",
    "\n",
    "    # --- Combine ---\n",
    "    score_by_gene = err_inc_by_gene + err_adn_by_gene + stage_err_by_gene # (n_genes,)\n",
    "    total_score = score_by_gene.sum()  # Total score (scalar)\n",
    "    return total_score, score_by_gene, (err_inc_by_gene, err_adn_by_gene, stage_err_by_gene)"
   ]
  },
  {
   "cell_type": "markdown",
   "id": "8d87ec60",
   "metadata": {},
   "source": [
    "### Iterate\n",
    "Below, we use the simulated annealing process to select the next candidate parameters.\n",
    "1. Run markov model and calculate GOF (initial)\n",
    "2. Adjust parameters randomly using the `step()` function\n",
    "3. Run markov model with new tmat and calculate GOF (candidate)\n",
    "4. If candidate GOF is better than initial GOF, use candidate\n",
    "5. If candidate GOF is worse than initial GOF, mainly use initial, but with small probability we may use candidate (worse)\n",
    "    (This introduces more randomness to escape local minima, and is why simulated annealing is said to have convergence to optimal parameter set with infinite time and loose enough constraints for it to actually search the parameter space)"
   ]
  },
  {
   "cell_type": "code",
   "execution_count": 16,
   "id": "01b0ce90",
   "metadata": {},
   "outputs": [],
   "source": [
    "def simulated_annealing(n_iterations, step_size, num_adj = 10, smooth=0.01, starting_temp = 1, starting_tmat=None, verbose=False):\n",
    "\n",
    "    if starting_tmat is None:\n",
    "        best_tmat = create_matrix()\n",
    "    else: \n",
    "        best_tmat = starting_tmat.copy()\n",
    "    best_eval_total = objective(run_markov(best_tmat))[0] # evaluate the initial point\n",
    "    curr_tmat, curr_eval_total = best_tmat.copy(), best_eval_total.copy()  # current working solution\n",
    "\n",
    "    for i in tqdm(range(n_iterations), desc=\"iterations\"):  # Running algorithm\n",
    "\n",
    "        # Run and evaluate new candidate transition matrix\n",
    "        candidate_tmat = curr_tmat.copy()\n",
    "        candidate_tmat = step(candidate_tmat, step_size, num_adj, smooth)\n",
    "        candidate_eval_total = objective(run_markov(candidate_tmat))[0]  # Evaluate candidate point\n",
    "\n",
    "        # If outcomes are better, accept it as current best (per gene selective update)\n",
    "        if candidate_eval_total < best_eval_total:\n",
    "            best_tmat, best_eval_total = candidate_tmat, candidate_eval_total\n",
    "            curr_tmat, curr_eval_total = candidate_tmat.copy(), candidate_eval_total.copy() # store the new current point\n",
    "\n",
    "        # Report progress\n",
    "        if verbose and i%(10_000)==0:\n",
    "            print('>%d score = %.5f' % (i, best_eval_total))     \n",
    "\n",
    "        # Accept worse solution with a small probability\n",
    "        t = starting_temp /(1+np.log(i+1))  \n",
    "        diff = candidate_eval_total - curr_eval_total  # difference between candidate and current point evaluation\n",
    "        metropolis = np.exp(-diff / t)  # calculate metropolis acceptance criterion\n",
    "        if diff < 0 or np.random.random() < metropolis:  # check if we should keep the new point\n",
    "            curr_tmat, curr_eval_total = candidate_tmat, candidate_eval_total  # store the new current point\n",
    "\n",
    "    print(best_eval_total)\n",
    "    return best_tmat"
   ]
  },
  {
   "cell_type": "markdown",
   "id": "e71e9fa4",
   "metadata": {},
   "source": [
    "## Run model"
   ]
  },
  {
   "cell_type": "code",
   "execution_count": 17,
   "id": "ded14253",
   "metadata": {},
   "outputs": [
    {
     "ename": "ValueError",
     "evalue": "could not broadcast input array from shape (13,) into shape (1,13,11)",
     "output_type": "error",
     "traceback": [
      "\u001b[31m---------------------------------------------------------------------------\u001b[39m",
      "\u001b[31mValueError\u001b[39m                                Traceback (most recent call last)",
      "\u001b[36mCell\u001b[39m\u001b[36m \u001b[39m\u001b[32mIn[17]\u001b[39m\u001b[32m, line 1\u001b[39m\n\u001b[32m----> \u001b[39m\u001b[32m1\u001b[39m tmat = \u001b[43mcreate_matrix\u001b[49m\u001b[43m(\u001b[49m\u001b[43m)\u001b[49m  \u001b[38;5;66;03m# Create initial transition matrix\u001b[39;00m\n\u001b[32m      2\u001b[39m result = simulated_annealing(\n\u001b[32m      3\u001b[39m     n_iterations=\u001b[32m100000\u001b[39m, \n\u001b[32m      4\u001b[39m     step_size=\u001b[32m0.01\u001b[39m,\n\u001b[32m      5\u001b[39m     starting_tmat=tmat, \n\u001b[32m      6\u001b[39m     starting_temp=\u001b[32m10\u001b[39m,\n\u001b[32m      7\u001b[39m     verbose=\u001b[38;5;28;01mTrue\u001b[39;00m)\n",
      "\u001b[36mCell\u001b[39m\u001b[36m \u001b[39m\u001b[32mIn[12]\u001b[39m\u001b[32m, line 45\u001b[39m, in \u001b[36mcreate_matrix\u001b[39m\u001b[34m()\u001b[39m\n\u001b[32m     42\u001b[39m matrix[:, :, :, \u001b[32m5\u001b[39m, \u001b[32m9\u001b[39m] = func.probtoprob(\u001b[32m0.4\u001b[39m)  \u001b[38;5;66;03m# u_stage_3 to d_stage_3\u001b[39;00m\n\u001b[32m     43\u001b[39m matrix[:, :, :, \u001b[32m6\u001b[39m, \u001b[32m10\u001b[39m] = func.probtoprob(\u001b[32m0.5\u001b[39m)  \u001b[38;5;66;03m# u_stage_4 to d_stage_4\u001b[39;00m\n\u001b[32m---> \u001b[39m\u001b[32m45\u001b[39m matrix = \u001b[43madd_acm\u001b[49m\u001b[43m(\u001b[49m\u001b[43mmatrix\u001b[49m\u001b[43m)\u001b[49m  \u001b[38;5;66;03m# ACM\u001b[39;00m\n\u001b[32m     46\u001b[39m matrix = add_csd(matrix)  \u001b[38;5;66;03m# CSD\u001b[39;00m\n\u001b[32m     47\u001b[39m matrix = constrain_matrix(matrix)  \u001b[38;5;66;03m# constrain\u001b[39;00m\n",
      "\u001b[36mCell\u001b[39m\u001b[36m \u001b[39m\u001b[32mIn[12]\u001b[39m\u001b[32m, line 80\u001b[39m, in \u001b[36madd_acm\u001b[39m\u001b[34m(matrix)\u001b[39m\n\u001b[32m     78\u001b[39m \u001b[38;5;28;01mdef\u001b[39;00m\u001b[38;5;250m \u001b[39m\u001b[34madd_acm\u001b[39m(matrix):\n\u001b[32m     79\u001b[39m     \u001b[38;5;28;01mfor\u001b[39;00m sex, lt \u001b[38;5;129;01min\u001b[39;00m \u001b[38;5;28menumerate\u001b[39m([lt_m, lt_f]):\n\u001b[32m---> \u001b[39m\u001b[32m80\u001b[39m         \u001b[43mmatrix\u001b[49m\u001b[43m[\u001b[49m\u001b[43msex\u001b[49m\u001b[43m,\u001b[49m\u001b[43m \u001b[49m\u001b[43m:\u001b[49m\u001b[43m,\u001b[49m\u001b[43m \u001b[49m\u001b[43m:\u001b[49m\u001b[43m,\u001b[49m\u001b[43m \u001b[49m\u001b[43m:\u001b[49m\u001b[32;43m11\u001b[39;49m\u001b[43m,\u001b[49m\u001b[43m \u001b[49m\u001b[32;43m12\u001b[39;49m\u001b[43m]\u001b[49m = lt  \u001b[38;5;66;03m# ACM\u001b[39;00m\n\u001b[32m     81\u001b[39m         matrix[sex, :, :, \u001b[32m11\u001b[39m, \u001b[32m11\u001b[39m] = \u001b[32m1\u001b[39m  \u001b[38;5;66;03m# Stay in CSD\u001b[39;00m\n\u001b[32m     82\u001b[39m         matrix[sex, :, :, \u001b[32m12\u001b[39m, \u001b[32m12\u001b[39m] = \u001b[32m1\u001b[39m  \u001b[38;5;66;03m# Stay in ACM\u001b[39;00m\n",
      "\u001b[31mValueError\u001b[39m: could not broadcast input array from shape (13,) into shape (1,13,11)"
     ]
    }
   ],
   "source": [
    "tmat = create_matrix()  # Create initial transition matrix\n",
    "result = simulated_annealing(\n",
    "    n_iterations=100000, \n",
    "    step_size=0.01,\n",
    "    starting_tmat=tmat, \n",
    "    starting_temp=10,\n",
    "    verbose=True)"
   ]
  },
  {
   "cell_type": "code",
   "execution_count": 12,
   "id": "a2049877",
   "metadata": {},
   "outputs": [],
   "source": [
    "obj = objective(run_markov(result))"
   ]
  },
  {
   "cell_type": "code",
   "execution_count": 13,
   "id": "649ceeb1",
   "metadata": {},
   "outputs": [
    {
     "name": "stdout",
     "output_type": "stream",
     "text": [
      "(array([ 98.925964693]), array([ 20.641565464]), array([ 32.611891528]))\n"
     ]
    }
   ],
   "source": [
    "obj_errors = obj[2]  # (err_inc_by_gene, err_adn_by_gene, stage_err_by_gene)\n",
    "err_inc_by_gene, err_adn_by_gene, stage_err_by_gene = obj_errors\n",
    "print(obj_errors)"
   ]
  },
  {
   "cell_type": "markdown",
   "id": "1cf4fc6b",
   "metadata": {},
   "source": [
    "## Plot outputs"
   ]
  },
  {
   "cell_type": "code",
   "execution_count": 14,
   "id": "92f0ed33",
   "metadata": {},
   "outputs": [],
   "source": [
    "\n",
    "def plot_crc_incidence(log, gene):\n",
    "    inc_unadj = log[2] # (2,1,14,55)\n",
    "    ages = np.arange(20,75,1)\n",
    "    gene_idx = c.GENES.index(gene)\n",
    "\n",
    "    plt.plot(ages, (inputs.incidence_target[gene]['male'])/100, '--', label=\"Target\")\n",
    "    plt.plot(ages, (inc_unadj[0,gene_idx,7:11,:].sum(axis=0).cumsum())/100_000, label=\"Model\")\n",
    "    plt.title(f\"Male {gene} CRC incidence\")\n",
    "    plt.show()\n",
    "\n",
    "    plt.plot(ages, (inputs.incidence_target[gene]['female'])/100, '--', label=\"Target\")\n",
    "    plt.plot(ages, (inc_unadj[1,gene_idx,7:11,:].sum(axis=0).cumsum())/100_000, label=\"Model\")\n",
    "    plt.title(f\"Female {gene} CRC incidence\")\n",
    "    plt.legend()\n",
    "    plt.show()\n",
    "\n",
    "def plot_polyp_incidence(log, gene):\n",
    "    inc_unadj = log[2]\n",
    "    ages = np.arange(20,75,1)\n",
    "    gene_idx = c.GENES.index(gene)\n",
    "    target_val = inputs.polyp_targets_dict[gene] * 100\n",
    "    female_cum_inc = (inc_unadj[1,gene_idx,1,:].cumsum())/100_000\n",
    "    male_cum_inc = (inc_unadj[0,gene_idx,1,:].cumsum())/100_000\n",
    "    plt.plot(ages, male_cum_inc, color=\"blue\", label=f\"Male {gene} polyp incidence\")\n",
    "    plt.plot(ages, female_cum_inc, color=\"red\", label=f\"Female {gene} polyp incidence\")\n",
    "    plt.scatter([60], [target_val/100], color=\"black\", label=\"Target at age 60\")\n",
    "    plt.title(f\"{gene} Polyp Incidence\")\n",
    "    plt.legend()\n",
    "    plt.show()\n",
    "    \n",
    "def plot_transition(tmat, gene, transition):\n",
    "    gene_idx = c.GENES.index(gene)\n",
    "    from_state, to_state = transition\n",
    "    \n",
    "    plt.plot(list(c.AGE_LAYERS.keys()), tmat[0, gene_idx, :, from_state, to_state], color=\"blue\", label=\"Male\")\n",
    "    plt.plot(list(c.AGE_LAYERS.keys()), tmat[1, gene_idx, :, from_state, to_state], color=\"red\", label=\"Female\")\n",
    "    plt.title(f\"Transition from {c.calibration_tps_itos[transition]}\")\n",
    "    plt.legend()\n",
    "    plt.show()\n",
    "\n",
    "def print_stage_props(log, gene):\n",
    "    gene_idx = c.GENES.index(gene)\n",
    "    inc_unadj = log[2]\n",
    "    \n",
    "    stage_idx = [7, 8, 9, 10]  # stage_1..stage_4\n",
    "    stage_totals = inc_unadj[:, gene_idx, stage_idx, :].sum(axis=(2))\n",
    "    denom = np.maximum(stage_totals.sum(axis=0, keepdims=True), 1e-12)\n",
    "    stage_props = stage_totals / denom  \n",
    "    print(stage_props[:,0]*100)\n",
    "    plt.bar([\"1\",\"2\",\"3\",\"4\"], stage_props[:,0])\n",
    "    \n",
    "def get_total_incidence(log, gene):\n",
    "    gene_idx = c.GENES.index(gene)\n",
    "    inc_unadj = log[2]\n",
    "    stage_idx = [7, 8, 9, 10]  # stage_1..stage_4\n",
    "    total_inc = inc_unadj[:, gene_idx, stage_idx, :].sum(axis=2).sum(axis=1)\n",
    "    return total_inc/100000 * 100\n",
    "    \n",
    "    "
   ]
  },
  {
   "cell_type": "code",
   "execution_count": 15,
   "id": "711ea38e",
   "metadata": {},
   "outputs": [],
   "source": [
    "result_log = run_markov(result)"
   ]
  },
  {
   "cell_type": "code",
   "execution_count": 16,
   "id": "531808e4",
   "metadata": {},
   "outputs": [
    {
     "data": {
      "image/png": "[encoded data removed]",
      "text/plain": [
       "<Figure size 640x480 with 1 Axes>"
      ]
     },
     "metadata": {},
     "output_type": "display_data"
    },
    {
     "data": {
      "image/png": "[encoded data removed]",
      "text/plain": [
       "<Figure size 640x480 with 1 Axes>"
      ]
     },
     "metadata": {},
     "output_type": "display_data"
    },
    {
     "data": {
      "image/png": "[encoded data removed]",
      "text/plain": [
       "<Figure size 640x480 with 1 Axes>"
      ]
     },
     "metadata": {},
     "output_type": "display_data"
    }
   ],
   "source": [
    "for gene in c.GENES:   \n",
    "    plot_crc_incidence(result_log, gene)\n",
    "    \n",
    "for gene in c.GENES:\n",
    "    plot_polyp_incidence(result_log, gene)"
   ]
  },
  {
   "cell_type": "code",
   "execution_count": 17,
   "id": "a0df3eb3",
   "metadata": {},
   "outputs": [
    {
     "name": "stdout",
     "output_type": "stream",
     "text": [
      "MLH1 [ 56.665563175  43.139971854]\n"
     ]
    }
   ],
   "source": [
    "for gene in c.GENES:\n",
    "    print(gene, get_total_incidence(result_log, gene))"
   ]
  },
  {
   "cell_type": "code",
   "execution_count": 18,
   "id": "d64e33de",
   "metadata": {},
   "outputs": [
    {
     "name": "stdout",
     "output_type": "stream",
     "text": [
      "[ 40.400766050  35.663968198  18.250398744  5.684867008]\n"
     ]
    }
   ],
   "source": [
    "\n",
    "inc_unadj = result_log[2]\n",
    "stage_idx = [7, 8, 9, 10]  # stage_1..stage_4\n",
    "stage_totals = inc_unadj[:, 0, stage_idx, :].sum(axis=(2)).sum(axis=0)\n",
    "total_crc = stage_totals.sum()\n",
    "print(stage_totals/total_crc*100)"
   ]
  },
  {
   "cell_type": "code",
   "execution_count": 19,
   "id": "ed2cbe70",
   "metadata": {},
   "outputs": [],
   "source": [
    "np.save(\"../tmats/MLH1_20250914_2001.npy\", result)"
   ]
  },
  {
   "cell_type": "code",
   "execution_count": 20,
   "id": "c05b1afc",
   "metadata": {},
   "outputs": [
    {
     "ename": "IndexError",
     "evalue": "index 1 is out of bounds for axis 1 with size 1",
     "output_type": "error",
     "traceback": [
      "\u001b[31m---------------------------------------------------------------------------\u001b[39m",
      "\u001b[31mIndexError\u001b[39m                                Traceback (most recent call last)",
      "\u001b[36mCell\u001b[39m\u001b[36m \u001b[39m\u001b[32mIn[20]\u001b[39m\u001b[32m, line 1\u001b[39m\n\u001b[32m----> \u001b[39m\u001b[32m1\u001b[39m tm = \u001b[43mresult\u001b[49m\u001b[43m[\u001b[49m\u001b[43m:\u001b[49m\u001b[43m,\u001b[49m\u001b[32;43m1\u001b[39;49m\u001b[43m,\u001b[49m\u001b[43m:\u001b[49m\u001b[43m,\u001b[49m\u001b[43m:\u001b[49m\u001b[43m,\u001b[49m\u001b[43m:\u001b[49m\u001b[43m]\u001b[49m.mean(axis=\u001b[32m0\u001b[39m) \u001b[38;5;66;03m# average over sex for gene MLH1\u001b[39;00m\n\u001b[32m      2\u001b[39m in_1, in_2, in_3, in_4 = [\u001b[32m1\u001b[39m/(\u001b[32m1\u001b[39m-tm[:, x, x].mean(axis=\u001b[32m0\u001b[39m)) \u001b[38;5;28;01mfor\u001b[39;00m x \u001b[38;5;129;01min\u001b[39;00m [\u001b[32m4\u001b[39m,\u001b[32m5\u001b[39m,\u001b[32m6\u001b[39m,\u001b[32m7\u001b[39m]]\n\u001b[32m      3\u001b[39m m1 = in_1\n",
      "\u001b[31mIndexError\u001b[39m: index 1 is out of bounds for axis 1 with size 1"
     ]
    }
   ],
   "source": [
    "tm = result[:,1,:,:,:].mean(axis=0) # average over sex for gene MLH1\n",
    "in_1, in_2, in_3, in_4 = [1/(1-tm[:, x, x].mean(axis=0)) for x in [4,5,6,7]]\n",
    "m1 = in_1\n",
    "m2 = in_1 + in_2\n",
    "m3 = (in_1 * in_2 * tm[:, 4, 5]) + in_3\n",
    "m4 = (in_1 * in_2 * tm[:, 4, 5] * in_3 * tm[:, 5, 6]) + in_4\n",
    "\n",
    "sj_time = np.array([m1,m2,m3,m4])\n",
    "sj_time_mean = np.mean(sj_time, axis=0)\n"
   ]
  },
  {
   "cell_type": "code",
   "execution_count": 21,
   "id": "543b810e",
   "metadata": {},
   "outputs": [],
   "source": [
    "# Get mean transition matrix over sex\n",
    "tm = result[:, 0, :, :, :].mean(axis=0)  # (n_age_layers, n_states, n_states)\n",
    "\n",
    "# Expected duration in each stage\n",
    "dur = [1 / (1 - tm[:, x, x]) for x in [4, 5, 6, 7]]  # stays in 4,5,6,7\n",
    "\n",
    "# Optional: weighted by transition probability\n",
    "m1 = dur[0]\n",
    "m2 = dur[1]\n",
    "m3 = dur[2] * tm[:, 4, 5]\n",
    "m4 = dur[3] * tm[:, 4, 5] * tm[:, 5, 6]\n",
    "\n",
    "# Total sojourn time per age layer\n",
    "sj_time = m1 + m2 + m3 + m4\n",
    "\n",
    "# Average across age layers\n",
    "sj_time_mean = sj_time.mean()\n"
   ]
  },
  {
   "cell_type": "code",
   "execution_count": 22,
   "id": "6d847d71",
   "metadata": {},
   "outputs": [
    {
     "data": {
      "text/plain": [
       "np.float64(38.192728471792776)"
      ]
     },
     "execution_count": 22,
     "metadata": {},
     "output_type": "execute_result"
    }
   ],
   "source": [
    "sj_time_mean "
   ]
  },
  {
   "cell_type": "code",
   "execution_count": 27,
   "id": "1d3faef8",
   "metadata": {},
   "outputs": [
    {
     "name": "stdout",
     "output_type": "stream",
     "text": [
      "15.971359298518758\n"
     ]
    }
   ],
   "source": [
    "dur = sum(1 / (1 - tm[:, x, x].mean()) for x in [1, 2])  # stays in lr_polyp, hr_polyp\n",
    "print(dur)"
   ]
  },
  {
   "cell_type": "code",
   "execution_count": null,
   "id": "984cfdf3",
   "metadata": {},
   "outputs": [],
   "source": []
  }
 ],
 "metadata": {
  "kernelspec": {
   "display_name": ".venv",
   "language": "python",
   "name": "python3"
  },
  "language_info": {
   "codemirror_mode": {
    "name": "ipython",
    "version": 3
   },
   "file_extension": ".py",
   "mimetype": "text/x-python",
   "name": "python",
   "nbconvert_exporter": "python",
   "pygments_lexer": "ipython3",
   "version": "3.12.10"
  }
 },
 "nbformat": 4,
 "nbformat_minor": 5
}
